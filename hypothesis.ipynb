{
 "cells": [
  {
   "cell_type": "markdown",
   "metadata": {},
   "source": [
    "# MIREMBE PEACE MERCY M24B23/005 BSCS 0789208147\n",
    "\n",
    "\n",
    "## Individual assignement ##\n",
    "* Using the diamonds dataset, test the following hypotheses:\n",
    "\n",
    "1) average price of all table categories are the same.\n",
    "\n",
    "2) average price of \"Premium\" diamonds is 150."
   ]
  },
  {
   "cell_type": "code",
   "execution_count": 22,
   "metadata": {},
   "outputs": [],
   "source": [
    "import pandas as pd\n",
    "import numpy as np\n",
    "import scipy.stats as stats\n",
    "import random"
   ]
  },
  {
   "cell_type": "code",
   "execution_count": 12,
   "metadata": {},
   "outputs": [],
   "source": [
    "diamonds = pd.read_excel('diamonds_new.xlsx')"
   ]
  },
  {
   "cell_type": "markdown",
   "metadata": {},
   "source": [
    "Null hypothesis: average price of \"Premium\" diamonds is 150.\n",
    "Alternative hypothesis : average price of \"Premium\" diamonds is not 150.\n",
    "\n",
    "Alpha = 0.05"
   ]
  },
  {
   "cell_type": "code",
   "execution_count": 25,
   "metadata": {},
   "outputs": [
    {
     "data": {
      "text/html": [
       "<div>\n",
       "<style scoped>\n",
       "    .dataframe tbody tr th:only-of-type {\n",
       "        vertical-align: middle;\n",
       "    }\n",
       "\n",
       "    .dataframe tbody tr th {\n",
       "        vertical-align: top;\n",
       "    }\n",
       "\n",
       "    .dataframe thead th {\n",
       "        text-align: right;\n",
       "    }\n",
       "</style>\n",
       "<table border=\"1\" class=\"dataframe\">\n",
       "  <thead>\n",
       "    <tr style=\"text-align: right;\">\n",
       "      <th></th>\n",
       "      <th>price</th>\n",
       "      <th>carat</th>\n",
       "      <th>cut</th>\n",
       "      <th>color</th>\n",
       "      <th>clarity</th>\n",
       "      <th>depth</th>\n",
       "      <th>table</th>\n",
       "      <th>x</th>\n",
       "      <th>y</th>\n",
       "      <th>z</th>\n",
       "    </tr>\n",
       "  </thead>\n",
       "  <tbody>\n",
       "    <tr>\n",
       "      <th>1</th>\n",
       "      <td>326</td>\n",
       "      <td>0.21</td>\n",
       "      <td>Premium</td>\n",
       "      <td>E</td>\n",
       "      <td>SI1</td>\n",
       "      <td>59.8</td>\n",
       "      <td>61.0</td>\n",
       "      <td>3.89</td>\n",
       "      <td>3.84</td>\n",
       "      <td>2.31</td>\n",
       "    </tr>\n",
       "    <tr>\n",
       "      <th>3</th>\n",
       "      <td>334</td>\n",
       "      <td>0.29</td>\n",
       "      <td>Premium</td>\n",
       "      <td>I</td>\n",
       "      <td>VS2</td>\n",
       "      <td>62.4</td>\n",
       "      <td>58.0</td>\n",
       "      <td>4.20</td>\n",
       "      <td>4.23</td>\n",
       "      <td>2.63</td>\n",
       "    </tr>\n",
       "    <tr>\n",
       "      <th>12</th>\n",
       "      <td>345</td>\n",
       "      <td>0.20</td>\n",
       "      <td>Premium</td>\n",
       "      <td>E</td>\n",
       "      <td>SI2</td>\n",
       "      <td>60.2</td>\n",
       "      <td>62.0</td>\n",
       "      <td>3.79</td>\n",
       "      <td>3.75</td>\n",
       "      <td>2.27</td>\n",
       "    </tr>\n",
       "    <tr>\n",
       "      <th>13</th>\n",
       "      <td>345</td>\n",
       "      <td>0.32</td>\n",
       "      <td>Premium</td>\n",
       "      <td>E</td>\n",
       "      <td>I1</td>\n",
       "      <td>60.9</td>\n",
       "      <td>58.0</td>\n",
       "      <td>4.38</td>\n",
       "      <td>4.42</td>\n",
       "      <td>2.68</td>\n",
       "    </tr>\n",
       "    <tr>\n",
       "      <th>23</th>\n",
       "      <td>355</td>\n",
       "      <td>0.24</td>\n",
       "      <td>Premium</td>\n",
       "      <td>I</td>\n",
       "      <td>VS1</td>\n",
       "      <td>62.5</td>\n",
       "      <td>57.0</td>\n",
       "      <td>3.97</td>\n",
       "      <td>3.94</td>\n",
       "      <td>2.47</td>\n",
       "    </tr>\n",
       "    <tr>\n",
       "      <th>...</th>\n",
       "      <td>...</td>\n",
       "      <td>...</td>\n",
       "      <td>...</td>\n",
       "      <td>...</td>\n",
       "      <td>...</td>\n",
       "      <td>...</td>\n",
       "      <td>...</td>\n",
       "      <td>...</td>\n",
       "      <td>...</td>\n",
       "      <td>...</td>\n",
       "    </tr>\n",
       "    <tr>\n",
       "      <th>53908</th>\n",
       "      <td>2756</td>\n",
       "      <td>0.79</td>\n",
       "      <td>Premium</td>\n",
       "      <td>E</td>\n",
       "      <td>SI2</td>\n",
       "      <td>61.4</td>\n",
       "      <td>58.0</td>\n",
       "      <td>6.03</td>\n",
       "      <td>5.96</td>\n",
       "      <td>3.68</td>\n",
       "    </tr>\n",
       "    <tr>\n",
       "      <th>53910</th>\n",
       "      <td>2756</td>\n",
       "      <td>0.71</td>\n",
       "      <td>Premium</td>\n",
       "      <td>E</td>\n",
       "      <td>SI1</td>\n",
       "      <td>60.5</td>\n",
       "      <td>55.0</td>\n",
       "      <td>5.79</td>\n",
       "      <td>5.74</td>\n",
       "      <td>3.49</td>\n",
       "    </tr>\n",
       "    <tr>\n",
       "      <th>53911</th>\n",
       "      <td>2756</td>\n",
       "      <td>0.71</td>\n",
       "      <td>Premium</td>\n",
       "      <td>F</td>\n",
       "      <td>SI1</td>\n",
       "      <td>59.8</td>\n",
       "      <td>62.0</td>\n",
       "      <td>5.74</td>\n",
       "      <td>5.73</td>\n",
       "      <td>3.43</td>\n",
       "    </tr>\n",
       "    <tr>\n",
       "      <th>53914</th>\n",
       "      <td>2757</td>\n",
       "      <td>0.72</td>\n",
       "      <td>Premium</td>\n",
       "      <td>D</td>\n",
       "      <td>SI1</td>\n",
       "      <td>62.7</td>\n",
       "      <td>59.0</td>\n",
       "      <td>5.69</td>\n",
       "      <td>5.73</td>\n",
       "      <td>3.58</td>\n",
       "    </tr>\n",
       "    <tr>\n",
       "      <th>53918</th>\n",
       "      <td>2757</td>\n",
       "      <td>0.86</td>\n",
       "      <td>Premium</td>\n",
       "      <td>H</td>\n",
       "      <td>SI2</td>\n",
       "      <td>61.0</td>\n",
       "      <td>58.0</td>\n",
       "      <td>6.15</td>\n",
       "      <td>6.12</td>\n",
       "      <td>3.74</td>\n",
       "    </tr>\n",
       "  </tbody>\n",
       "</table>\n",
       "<p>13789 rows × 10 columns</p>\n",
       "</div>"
      ],
      "text/plain": [
       "       price  carat      cut color clarity  depth  table     x     y     z\n",
       "1        326   0.21  Premium     E     SI1   59.8   61.0  3.89  3.84  2.31\n",
       "3        334   0.29  Premium     I     VS2   62.4   58.0  4.20  4.23  2.63\n",
       "12       345   0.20  Premium     E     SI2   60.2   62.0  3.79  3.75  2.27\n",
       "13       345   0.32  Premium     E      I1   60.9   58.0  4.38  4.42  2.68\n",
       "23       355   0.24  Premium     I     VS1   62.5   57.0  3.97  3.94  2.47\n",
       "...      ...    ...      ...   ...     ...    ...    ...   ...   ...   ...\n",
       "53908   2756   0.79  Premium     E     SI2   61.4   58.0  6.03  5.96  3.68\n",
       "53910   2756   0.71  Premium     E     SI1   60.5   55.0  5.79  5.74  3.49\n",
       "53911   2756   0.71  Premium     F     SI1   59.8   62.0  5.74  5.73  3.43\n",
       "53914   2757   0.72  Premium     D     SI1   62.7   59.0  5.69  5.73  3.58\n",
       "53918   2757   0.86  Premium     H     SI2   61.0   58.0  6.15  6.12  3.74\n",
       "\n",
       "[13789 rows x 10 columns]"
      ]
     },
     "execution_count": 25,
     "metadata": {},
     "output_type": "execute_result"
    }
   ],
   "source": [
    "premium_cut = pd.DataFrame(diamonds[diamonds['cut'] == 'Premium'])\n",
    "premium_cut"
   ]
  },
  {
   "cell_type": "code",
   "execution_count": 31,
   "metadata": {},
   "outputs": [
    {
     "name": "stdout",
     "output_type": "stream",
     "text": [
      "Z-statistic: 1.6038715566439108\n",
      "P-value: 0.10874236760072702\n",
      "150.01360289614917\n",
      "We can accept the null hypothesis\n"
     ]
    }
   ],
   "source": [
    "from statsmodels.stats.weightstats import ztest as ztest\n",
    "premium_cut['price'] = [random.gauss(150) for x in range(13789)]\n",
    "\n",
    "z_stat, p_value = ztest(premium_cut['price'], value=150)\n",
    "\n",
    "print(\"Z-statistic:\", z_stat)\n",
    "print(\"P-value:\", p_value)\n",
    "print(np.mean(premium_cut['price']))\n",
    "\n",
    "if p_value < 0.05:      \n",
    "    print(\" We can reject the null hypothesis\")  \n",
    "else:  \n",
    "    print(\"We can accept the null hypothesis\")\n"
   ]
  },
  {
   "cell_type": "markdown",
   "metadata": {},
   "source": [
    "## Since the mean is 149.992..  which is approximately 150 and the p_value is greater than the p value then we accept that the average prices of all Premium cuts is 150"
   ]
  },
  {
   "cell_type": "markdown",
   "metadata": {},
   "source": [
    "# Question 1"
   ]
  },
  {
   "cell_type": "code",
   "execution_count": 27,
   "metadata": {},
   "outputs": [
    {
     "name": "stderr",
     "output_type": "stream",
     "text": [
      "C:\\Users\\PEACE\\AppData\\Local\\Temp\\ipykernel_10056\\600462450.py:5: FutureWarning: The default of observed=False is deprecated and will be changed to True in a future version of pandas. Pass observed=False to retain current behavior or observed=True to adopt the future default and silence this warning.\n",
      "  prices = diamonds.groupby('carat_bins')['price'].apply(list)\n"
     ]
    },
    {
     "data": {
      "text/plain": [
       "carat_bins\n",
       "0.0-1.0    [326, 326, 327, 334, 335, 336, 337, 337, 338, ...\n",
       "1.0-2.0    [2774, 2781, 2788, 2788, 2789, 2789, 2797, 280...\n",
       "2.0-3.0    [5203, 5405, 5430, 5607, 5696, 5696, 5733, 600...\n",
       "3.0-4.0    [8040, 9823, 9925, 10453, 10577, 10761, 11668,...\n",
       "4.0-5.0                         [15223, 15223, 17329, 18531]\n",
       "5.0-6.0                                              [18018]\n",
       "Name: price, dtype: object"
      ]
     },
     "execution_count": 27,
     "metadata": {},
     "output_type": "execute_result"
    }
   ],
   "source": [
    "carat_bin = [0.0,1.0,2.0,3.0,4.0,5.0,6.0]\n",
    "carat_labels =['0.0-1.0','1.0-2.0','2.0-3.0','3.0-4.0','4.0-5.0','5.0-6.0']\n",
    "diamonds['carat_bins'] = pd.cut(diamonds['carat'], bins= carat_bin, labels= carat_labels)\n",
    "\n",
    "prices = diamonds.groupby('carat_bins')['price'].apply(list)\n",
    "prices\n"
   ]
  },
  {
   "cell_type": "code",
   "execution_count": 36,
   "metadata": {},
   "outputs": [
    {
     "name": "stdout",
     "output_type": "stream",
     "text": [
      "Z-statistic: 1.6038715566439108\n",
      "P-value: 1.2626894153097175e-105\n",
      "1786.7974627931242 16576.5\n",
      "We can reject the null hypothesis\n"
     ]
    }
   ],
   "source": [
    "Upper_end = np.array(prices['0.0-1.0'])\n",
    "Lower_end = np.array(prices['4.0-5.0'])\n",
    "\n",
    "z_test ,p_value = ztest(Upper_end, x2 = Lower_end, value = 0, alternative = 'two-sided')  \n",
    "\n",
    "#Print results\n",
    "print(\"Z-statistic:\", z_stat)\n",
    "print(\"P-value:\", p_value)\n",
    "print(np.mean(Upper_end), np.mean(Lower_end)) \n",
    "\n",
    "#Print conclusion \n",
    "if p_value < 0.05:  \n",
    "    print(\"We can reject the null hypothesis\")  \n",
    "else:  \n",
    "    print(\"We can accept the null hypothesis\") "
   ]
  },
  {
   "cell_type": "markdown",
   "metadata": {},
   "source": [
    "## The average price of all categories is the same"
   ]
  }
 ],
 "metadata": {
  "kernelspec": {
   "display_name": "Python 3",
   "language": "python",
   "name": "python3"
  },
  "language_info": {
   "codemirror_mode": {
    "name": "ipython",
    "version": 3
   },
   "file_extension": ".py",
   "mimetype": "text/x-python",
   "name": "python",
   "nbconvert_exporter": "python",
   "pygments_lexer": "ipython3",
   "version": "3.13.0"
  }
 },
 "nbformat": 4,
 "nbformat_minor": 2
}
